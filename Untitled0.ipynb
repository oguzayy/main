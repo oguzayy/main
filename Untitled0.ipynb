{
  "nbformat": 4,
  "nbformat_minor": 0,
  "metadata": {
    "colab": {
      "name": "Untitled0.ipynb",
      "provenance": [],
      "collapsed_sections": [],
      "include_colab_link": true
    },
    "kernelspec": {
      "name": "python3",
      "display_name": "Python 3"
    }
  },
  "cells": [
    {
      "cell_type": "markdown",
      "metadata": {
        "id": "view-in-github",
        "colab_type": "text"
      },
      "source": [
        "<a href=\"https://colab.research.google.com/github/oguzayy/main/blob/master/Untitled0.ipynb\" target=\"_parent\"><img src=\"https://colab.research.google.com/assets/colab-badge.svg\" alt=\"Open In Colab\"/></a>"
      ]
    },
    {
      "cell_type": "code",
      "metadata": {
        "id": "_J7WcvjTWvJq",
        "colab_type": "code",
        "colab": {}
      },
      "source": [
        "import pandas as pd\n",
        "import numpy as np\n",
        "import matplotlib.pyplot as plt\n",
        "import seaborn as sns\n",
        "from scipy.stats import iqr\n",
        "import math"
      ],
      "execution_count": null,
      "outputs": []
    },
    {
      "cell_type": "code",
      "metadata": {
        "id": "YsphYxXdU8HZ",
        "colab_type": "code",
        "colab": {}
      },
      "source": [
        "import warnings\n",
        "warnings.filterwarnings('ignore')"
      ],
      "execution_count": null,
      "outputs": []
    },
    {
      "cell_type": "code",
      "metadata": {
        "id": "xELgOziQU9lZ",
        "colab_type": "code",
        "colab": {}
      },
      "source": [
        "titanic = pd.read_csv('train.csv')\n",
        "titanic.head()"
      ],
      "execution_count": null,
      "outputs": []
    },
    {
      "cell_type": "code",
      "metadata": {
        "id": "pyg2eewYU93n",
        "colab_type": "code",
        "colab": {}
      },
      "source": [
        "titanic_test = pd.read_csv('test.csv')"
      ],
      "execution_count": null,
      "outputs": []
    },
    {
      "cell_type": "code",
      "metadata": {
        "id": "JfKlODAaU_RB",
        "colab_type": "code",
        "colab": {}
      },
      "source": [
        "all = pd.concat([titanic,titanic_test], ignore_index=False)"
      ],
      "execution_count": null,
      "outputs": []
    },
    {
      "cell_type": "code",
      "metadata": {
        "id": "4L1Py9ARVApD",
        "colab_type": "code",
        "colab": {}
      },
      "source": [
        "all.Cabin.fillna(\"N\", inplace=True)\n",
        "all.Cabin = [i[0] for i in all.Cabin]"
      ],
      "execution_count": null,
      "outputs": []
    },
    {
      "cell_type": "code",
      "metadata": {
        "id": "39fD0n7yVB_d",
        "colab_type": "code",
        "colab": {}
      },
      "source": [
        "## get the title from the name\n",
        "all[\"title\"] = [i.split('.')[0] for i in all.Name]\n",
        "all[\"title\"] = [i.split(',')[1] for i in all.title]\n",
        "all['title'] = [i.split('.')[0].split(',')[1].strip() for i in all.Name]"
      ],
      "execution_count": null,
      "outputs": []
    },
    {
      "cell_type": "code",
      "metadata": {
        "id": "qkbfIP1WVDrZ",
        "colab_type": "code",
        "colab": {}
      },
      "source": [
        "all.title.unique()"
      ],
      "execution_count": null,
      "outputs": []
    },
    {
      "cell_type": "code",
      "metadata": {
        "id": "8mOdSXBXVFR9",
        "colab_type": "code",
        "colab": {}
      },
      "source": [
        "all[\"title\"] = [i.replace('Mlle', 'Miss') for i in all.title]\n",
        "all[\"title\"] = [i.replace('Mme', 'Mrs') for i in all.title]\n",
        "all[\"title\"] = [i.replace('Dr', 'rare') for i in all.title]\n",
        "all[\"title\"] = [i.replace('Col', 'rare') for i in all.title]\n",
        "all[\"title\"] = [i.replace('Major', 'rare') for i in all.title]\n",
        "all[\"title\"] = [i.replace('Dona', 'rare') for i in all.title]\n",
        "all[\"title\"] = [i.replace('Don', 'rare') for i in all.title]\n",
        "all[\"title\"] = [i.replace('Jonkheer', 'rare') for i in all.title]\n",
        "all[\"title\"] = [i.replace('Sir', 'rare') for i in all.title]\n",
        "all[\"title\"] = [i.replace('Lady', 'rare') for i in all.title]\n",
        "all[\"title\"] = [i.replace('Capt', 'rare') for i in all.title]\n",
        "all[\"title\"] = [i.replace('the Countess', 'rare') for i in all.title]\n",
        "all[\"title\"] = [i.replace('Rev', 'rare') for i in all.title]"
      ],
      "execution_count": null,
      "outputs": []
    },
    {
      "cell_type": "code",
      "metadata": {
        "id": "P4WVMGxBVIs1",
        "colab_type": "code",
        "colab": {}
      },
      "source": [
        "all.title.isnull().any()"
      ],
      "execution_count": null,
      "outputs": []
    },
    {
      "cell_type": "code",
      "metadata": {
        "id": "8xHm6AumVKEf",
        "colab_type": "code",
        "colab": {}
      },
      "source": [
        "## Family_size seems like a good feature to create\n",
        "all['family_size'] = all.SibSp + all.Parch+1"
      ],
      "execution_count": null,
      "outputs": []
    },
    {
      "cell_type": "code",
      "metadata": {
        "id": "lYZz9k2BVLfu",
        "colab_type": "code",
        "colab": {}
      },
      "source": [
        "all['is_alone'] = [1 if i<2 else 0 for i in all.family_size]"
      ],
      "execution_count": null,
      "outputs": []
    },
    {
      "cell_type": "code",
      "metadata": {
        "id": "4353A_kmVNU_",
        "colab_type": "code",
        "colab": {}
      },
      "source": [
        "titanic.describe()"
      ],
      "execution_count": null,
      "outputs": []
    },
    {
      "cell_type": "code",
      "metadata": {
        "id": "EVkhdy-MVOnv",
        "colab_type": "code",
        "colab": {}
      },
      "source": [
        "# 1 for male in the \"Sex\" column. \n",
        "all['Sex'] = all.Sex.apply(lambda x: 0 if x == \"female\" else 1)"
      ],
      "execution_count": null,
      "outputs": []
    },
    {
      "cell_type": "code",
      "metadata": {
        "id": "j9nBh_p6VQC4",
        "colab_type": "code",
        "colab": {}
      },
      "source": [
        "all.isnull().sum()"
      ],
      "execution_count": null,
      "outputs": []
    },
    {
      "cell_type": "code",
      "metadata": {
        "id": "RlbW6qTAVRFi",
        "colab_type": "code",
        "colab": {}
      },
      "source": [
        "## Calculating fare based on family size. \n",
        "all['calculated_fare'] = all.Fare/all.family_size"
      ],
      "execution_count": null,
      "outputs": []
    },
    {
      "cell_type": "code",
      "metadata": {
        "id": "vkPILUHrVSlj",
        "colab_type": "code",
        "colab": {}
      },
      "source": [
        "all = pd.get_dummies(all, columns=['title', 'Pclass', 'Cabin', 'Embarked'], drop_first=False)\n"
      ],
      "execution_count": null,
      "outputs": []
    },
    {
      "cell_type": "code",
      "metadata": {
        "id": "ZXsG6RbZVUJj",
        "colab_type": "code",
        "colab": {}
      },
      "source": [
        "all.drop(['Name', 'PassengerId'], axis=1, inplace=True)"
      ],
      "execution_count": null,
      "outputs": []
    },
    {
      "cell_type": "code",
      "metadata": {
        "id": "eB5mOYxeVYGF",
        "colab_type": "code",
        "colab": {}
      },
      "source": [
        "all.head()"
      ],
      "execution_count": null,
      "outputs": []
    },
    {
      "cell_type": "code",
      "metadata": {
        "id": "nj1oZBpsVaXH",
        "colab_type": "code",
        "colab": {}
      },
      "source": [
        "all.drop(['Ticket'], axis=1, inplace=True)"
      ],
      "execution_count": null,
      "outputs": []
    },
    {
      "cell_type": "code",
      "metadata": {
        "id": "VsVnAlYzVc-c",
        "colab_type": "code",
        "colab": {}
      },
      "source": [
        "all.drop(all.iloc[np.where(all.Fare.isnull())].index, inplace=True)"
      ],
      "execution_count": null,
      "outputs": []
    },
    {
      "cell_type": "code",
      "metadata": {
        "id": "Mcr6D9LmVeM6",
        "colab_type": "code",
        "colab": {}
      },
      "source": [
        "t = all.Survived\n",
        "all.drop(['Survived'], axis=1, inplace=True)"
      ],
      "execution_count": null,
      "outputs": []
    },
    {
      "cell_type": "code",
      "metadata": {
        "id": "b0fUnFKIVfcA",
        "colab_type": "code",
        "colab": {}
      },
      "source": [
        "from sklearn.preprocessing import MinMaxScaler, StandardScaler\n",
        "all_scaled = MinMaxScaler().fit_transform(all)"
      ],
      "execution_count": null,
      "outputs": []
    },
    {
      "cell_type": "code",
      "metadata": {
        "id": "b4Zr6hgyViG6",
        "colab_type": "code",
        "colab": {}
      },
      "source": [
        "temp_train = all.loc[all.Age.notnull()] ## df with age values\n",
        "temp_test = all.loc[all.Age.isnull()]"
      ],
      "execution_count": null,
      "outputs": []
    },
    {
      "cell_type": "code",
      "metadata": {
        "id": "r4zrfWqnVjfE",
        "colab_type": "code",
        "colab": {}
      },
      "source": [
        "y = temp_train.Age.values ## setting target variables(age) in y \n",
        "x = temp_train.loc[:, \"Fare\":].values"
      ],
      "execution_count": null,
      "outputs": []
    },
    {
      "cell_type": "code",
      "metadata": {
        "id": "jnPrr14qVlWw",
        "colab_type": "code",
        "colab": {}
      },
      "source": [
        "from sklearn.model_selection import train_test_split\n",
        "\n",
        "x_train, x_test, y_train, y_test = train_test_split(x, y, test_size=0.3, random_state=42)"
      ],
      "execution_count": null,
      "outputs": []
    },
    {
      "cell_type": "code",
      "metadata": {
        "id": "3HRxHu_oVlpn",
        "colab_type": "code",
        "colab": {}
      },
      "source": [
        "from sklearn.ensemble import RandomForestRegressor\n",
        "from sklearn.metrics import f1_score, mean_squared_error, accuracy_score\n",
        "\n",
        "rfr = RandomForestRegressor(n_estimators=1500, n_jobs=-1)\n",
        "rfr.fit(x_train, y_train)\n",
        "\n",
        "y_pred=rfr.predict(x_train)\n",
        "\n",
        "print(mean_squared_error(y_train, y_pred))"
      ],
      "execution_count": null,
      "outputs": []
    },
    {
      "cell_type": "code",
      "metadata": {
        "id": "pDlpv-vdVnMG",
        "colab_type": "code",
        "colab": {}
      },
      "source": [
        "from sklearn.model_selection import train_test_split, cross_val_score, GridSearchCV\n",
        "from sklearn.linear_model import LogisticRegression, LinearRegression, SGDRegressor, Ridge\n",
        "from sklearn.ensemble import BaggingClassifier, RandomForestClassifier, AdaBoostClassifier\n",
        "from sklearn.tree import DecisionTreeClassifier, DecisionTreeRegressor\n",
        "from sklearn.naive_bayes import GaussianNB\n",
        "from sklearn import linear_model\n",
        "from sklearn.svm import SVR\n",
        "from sklearn.neural_network import MLPRegressor\n",
        "from sklearn.metrics import f1_score, mean_squared_error\n",
        "from sklearn.preprocessing import MinMaxScaler, StandardScaler"
      ],
      "execution_count": null,
      "outputs": []
    },
    {
      "cell_type": "code",
      "metadata": {
        "id": "aU99-N4wVowE",
        "colab_type": "code",
        "colab": {}
      },
      "source": [
        "lin = LinearRegression()\n",
        "sgd = SGDRegressor(max_iter=1000, tol=1e-3)\n",
        "rid = Ridge(alpha=.5)\n",
        "dtr = DecisionTreeRegressor()\n",
        "mlp = MLPRegressor(random_state=1, max_iter=2)\n",
        "\n",
        "lin_cv_score = cross_val_score(lin, x_train, y_train, cv=3, scoring='neg_mean_squared_error', n_jobs=-1)\n",
        "sgd_cv_score = cross_val_score(sgd, x_train, y_train, cv=3, scoring='neg_mean_squared_error', n_jobs=-1)\n",
        "rid_cv_score = cross_val_score(rid, x_train, y_train, cv=3, scoring='neg_mean_squared_error', n_jobs=-1)\n",
        "dtr_cv_score = cross_val_score(dtr, x_train, y_train, cv=3, scoring='neg_mean_squared_error', n_jobs=-1)\n",
        "mlp_cv_score = cross_val_score(mlp, x_train, y_train, cv=3, scoring='neg_mean_squared_error', n_jobs=-1)\n",
        "\n",
        "print('Linear Regression: {}\\nStochastic Gradient Descent Regressor: {}\\nRidge Regression: {}\\nDecision Tree Regressor: {}\\nMulti-layer Perceptron Regressor: {}'\n",
        "     .format(lin_cv_score.mean(), sgd_cv_score.mean(), rid_cv_score.mean(), dtr_cv_score.mean(), mlp_cv_score.mean()))"
      ],
      "execution_count": null,
      "outputs": []
    },
    {
      "cell_type": "code",
      "metadata": {
        "id": "LSTU0cuvVqcU",
        "colab_type": "code",
        "colab": {}
      },
      "source": [
        "all.isnull().any()"
      ],
      "execution_count": null,
      "outputs": []
    },
    {
      "cell_type": "code",
      "metadata": {
        "id": "EF13RBaSVreE",
        "colab_type": "code",
        "colab": {}
      },
      "source": [
        "temp_test.loc[:,\"Fare\":]"
      ],
      "execution_count": null,
      "outputs": []
    },
    {
      "cell_type": "code",
      "metadata": {
        "id": "Jm5RNFa6Vsps",
        "colab_type": "code",
        "colab": {}
      },
      "source": [
        " all.loc[all.Age.isnull(), \"Age\"] = rfr.predict(temp_test.loc[:,\"Fare\":])"
      ],
      "execution_count": null,
      "outputs": []
    },
    {
      "cell_type": "code",
      "metadata": {
        "id": "boHkNeAEVuLZ",
        "colab_type": "code",
        "colab": {}
      },
      "source": [
        "all.isnull().sum()"
      ],
      "execution_count": null,
      "outputs": []
    },
    {
      "cell_type": "code",
      "metadata": {
        "id": "kji3TdOjVvYo",
        "colab_type": "code",
        "colab": {}
      },
      "source": [
        "main_train = all.loc[pd.DataFrame(t).Survived.notnull()] ## df with age values\n",
        "main_test = all.loc[pd.DataFrame(t).Survived.isnull()]"
      ],
      "execution_count": null,
      "outputs": []
    },
    {
      "cell_type": "code",
      "metadata": {
        "id": "Ha9c_vP7VxkL",
        "colab_type": "code",
        "colab": {}
      },
      "source": [
        "t = t[pd.DataFrame(t).Survived.notnull()]"
      ],
      "execution_count": null,
      "outputs": []
    },
    {
      "cell_type": "code",
      "metadata": {
        "id": "SVdh8HWRVy-x",
        "colab_type": "code",
        "colab": {}
      },
      "source": [
        "main_train.shape"
      ],
      "execution_count": null,
      "outputs": []
    },
    {
      "cell_type": "code",
      "metadata": {
        "id": "NP_-zhQMXRXh",
        "colab_type": "code",
        "colab": {}
      },
      "source": [
        ""
      ],
      "execution_count": null,
      "outputs": []
    },
    {
      "cell_type": "code",
      "metadata": {
        "id": "W-LOL3JjV1G4",
        "colab_type": "code",
        "colab": {}
      },
      "source": [
        "x_train, x_test, y_train, y_test = train_test_split(main_train, t, test_size=0.3, random_state=42)"
      ],
      "execution_count": null,
      "outputs": []
    },
    {
      "cell_type": "code",
      "metadata": {
        "id": "rF-LHNVRV2fB",
        "colab_type": "code",
        "colab": {}
      },
      "source": [
        "reg = LogisticRegression()\n",
        "brg = BaggingClassifier(base_estimator=reg)\n",
        "dtc = DecisionTreeClassifier()\n",
        "rfc = RandomForestClassifier()\n",
        "abc = AdaBoostClassifier()\n",
        "gnb = GaussianNB()\n",
        "\n",
        "reg_cv_score = cross_val_score(reg, x_train, y_train, cv=3, scoring='f1', n_jobs=-1)\n",
        "brg_cv_score = cross_val_score(brg, x_train, y_train, cv=3, scoring='f1', n_jobs=-1)\n",
        "dtc_cv_score = cross_val_score(dtc, x_train, y_train, cv=3, scoring='f1', n_jobs=-1)\n",
        "rfc_cv_score = cross_val_score(rfc, x_train, y_train, cv=3, scoring='f1', n_jobs=-1)\n",
        "abc_cv_score = cross_val_score(abc, x_train, y_train, cv=3, scoring='f1', n_jobs=-1)\n",
        "gnb_cv_score = cross_val_score(gnb, x_train, y_train, cv=3, scoring='f1', n_jobs=-1)\n",
        "\n",
        "print('Logistic Regression: {}\\nBagging Classifier: {}\\nDecision Tree Classifier: {}\\nRandom Forest Classifier: {}\\nAda Boost Classifier: {}\\nNaive Bayes: {}'\n",
        "     .format(reg_cv_score.mean(), brg_cv_score.mean(), dtc_cv_score.mean(), rfc_cv_score.mean(), abc_cv_score.mean(), gnb_cv_score.mean()))"
      ],
      "execution_count": null,
      "outputs": []
    },
    {
      "cell_type": "code",
      "metadata": {
        "id": "7vyIkmDEV4Om",
        "colab_type": "code",
        "colab": {}
      },
      "source": [
        "\n",
        "from numpy import loadtxt\n",
        "from xgboost import XGBClassifier"
      ],
      "execution_count": null,
      "outputs": []
    },
    {
      "cell_type": "code",
      "metadata": {
        "id": "kOxMail0V5p_",
        "colab_type": "code",
        "colab": {}
      },
      "source": [
        "model = XGBClassifier()\n",
        "model.fit(x_train, y_train)"
      ],
      "execution_count": null,
      "outputs": []
    },
    {
      "cell_type": "code",
      "metadata": {
        "id": "Pg4Kv8_cV69N",
        "colab_type": "code",
        "colab": {}
      },
      "source": [
        "y_pred = model.predict(X_test)\n",
        "print(accuracy_score(y_test, y_pred))"
      ],
      "execution_count": null,
      "outputs": []
    }
  ]
}